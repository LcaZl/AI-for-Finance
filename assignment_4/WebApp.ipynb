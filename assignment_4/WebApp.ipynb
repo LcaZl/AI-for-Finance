{
 "cells": [
  {
   "cell_type": "code",
   "execution_count": 4,
   "id": "439aface-114b-4323-8e18-671deb773de4",
   "metadata": {
    "tags": []
   },
   "outputs": [
    {
     "name": "stdout",
     "output_type": "stream",
     "text": [
      "Evaluate customer probability of loan default\n",
      "\n",
      "\n"
     ]
    },
    {
     "data": {
      "text/html": [
       "\n",
       "    <style>\n",
       "    .widget-label { min-width: 30ex !important; }\n",
       "    </style>\n"
      ],
      "text/plain": [
       "<IPython.core.display.HTML object>"
      ]
     },
     "metadata": {},
     "output_type": "display_data"
    },
    {
     "data": {
      "application/vnd.jupyter.widget-view+json": {
       "model_id": "fa1254c857a74dfeb403af2701b460fd",
       "version_major": 2,
       "version_minor": 0
      },
      "text/plain": [
       "Dropdown(description='Select predictors:', options=(\"('loan_grade', 'loan_intent', 'person_income')\", \"('loan_…"
      ]
     },
     "metadata": {},
     "output_type": "display_data"
    },
    {
     "data": {
      "application/vnd.jupyter.widget-view+json": {
       "model_id": "5533e2a8cc20417d8773489d35027583",
       "version_major": 2,
       "version_minor": 0
      },
      "text/plain": [
       "FloatText(value=0.0, description='person_age')"
      ]
     },
     "metadata": {},
     "output_type": "display_data"
    },
    {
     "data": {
      "application/vnd.jupyter.widget-view+json": {
       "model_id": "738e7afd755343718f2f08c1cd36da44",
       "version_major": 2,
       "version_minor": 0
      },
      "text/plain": [
       "FloatText(value=0.0, description='person_income')"
      ]
     },
     "metadata": {},
     "output_type": "display_data"
    },
    {
     "data": {
      "application/vnd.jupyter.widget-view+json": {
       "model_id": "1258b3793a194b2993959ac1b7b6705e",
       "version_major": 2,
       "version_minor": 0
      },
      "text/plain": [
       "FloatText(value=0.0, description='person_emp_length')"
      ]
     },
     "metadata": {},
     "output_type": "display_data"
    },
    {
     "data": {
      "application/vnd.jupyter.widget-view+json": {
       "model_id": "0ea5757dcc834e91af2994f1c52fc937",
       "version_major": 2,
       "version_minor": 0
      },
      "text/plain": [
       "FloatText(value=0.0, description='loan_amnt')"
      ]
     },
     "metadata": {},
     "output_type": "display_data"
    },
    {
     "data": {
      "application/vnd.jupyter.widget-view+json": {
       "model_id": "8a3287f273864796ab3b721a019d53b9",
       "version_major": 2,
       "version_minor": 0
      },
      "text/plain": [
       "FloatText(value=0.0, description='loan_int_rate')"
      ]
     },
     "metadata": {},
     "output_type": "display_data"
    },
    {
     "data": {
      "application/vnd.jupyter.widget-view+json": {
       "model_id": "72256228babb41bd97d88268b8262f66",
       "version_major": 2,
       "version_minor": 0
      },
      "text/plain": [
       "FloatText(value=0.0, description='loan_percent_income')"
      ]
     },
     "metadata": {},
     "output_type": "display_data"
    },
    {
     "data": {
      "application/vnd.jupyter.widget-view+json": {
       "model_id": "0d4ea6f904bf4f5f83fda6adb19aacdd",
       "version_major": 2,
       "version_minor": 0
      },
      "text/plain": [
       "FloatText(value=0.0, description='cb_person_cred_hist_length')"
      ]
     },
     "metadata": {},
     "output_type": "display_data"
    },
    {
     "data": {
      "application/vnd.jupyter.widget-view+json": {
       "model_id": "73ded21575fd4943875dbb0ed3c31081",
       "version_major": 2,
       "version_minor": 0
      },
      "text/plain": [
       "Dropdown(description='person_home_ownership', options=('RENT', 'OWN', 'MORTGAGE', 'OTHER'), value='RENT')"
      ]
     },
     "metadata": {},
     "output_type": "display_data"
    },
    {
     "data": {
      "application/vnd.jupyter.widget-view+json": {
       "model_id": "a53bdfef4e8e428fa798b32c9cbb7773",
       "version_major": 2,
       "version_minor": 0
      },
      "text/plain": [
       "Dropdown(description='loan_intent', options=('DEBTCONSOLIDATION', 'EDUCATION', 'HOMEIMPROVEMENT', 'MEDICAL', '…"
      ]
     },
     "metadata": {},
     "output_type": "display_data"
    },
    {
     "data": {
      "application/vnd.jupyter.widget-view+json": {
       "model_id": "d799ea7fe9794aa0a1c266e40fe99a5e",
       "version_major": 2,
       "version_minor": 0
      },
      "text/plain": [
       "Dropdown(description='loan_grade', options=('A', 'B', 'C', 'D', 'E', 'F', 'G'), value='A')"
      ]
     },
     "metadata": {},
     "output_type": "display_data"
    },
    {
     "data": {
      "application/vnd.jupyter.widget-view+json": {
       "model_id": "07f9d0f8a6e141d4a4dbff78b62c4bc4",
       "version_major": 2,
       "version_minor": 0
      },
      "text/plain": [
       "Dropdown(description='cb_person_default_on_file', options=('N', 'Y'), value='N')"
      ]
     },
     "metadata": {},
     "output_type": "display_data"
    },
    {
     "name": "stdout",
     "output_type": "stream",
     "text": [
      "\n",
      "\n"
     ]
    },
    {
     "data": {
      "application/vnd.jupyter.widget-view+json": {
       "model_id": "5536f848488840e98e9fffaf7d54b07d",
       "version_major": 2,
       "version_minor": 0
      },
      "text/plain": [
       "Button(description='Forecast', disabled=True, icon='check', style=ButtonStyle(), tooltip='Click to forecast')"
      ]
     },
     "metadata": {},
     "output_type": "display_data"
    },
    {
     "data": {
      "application/vnd.jupyter.widget-view+json": {
       "model_id": "34a7df6b65e64c52a0017522bdbdd01b",
       "version_major": 2,
       "version_minor": 0
      },
      "text/plain": [
       "Output()"
      ]
     },
     "metadata": {},
     "output_type": "display_data"
    }
   ],
   "source": [
    "import os\n",
    "import pickle\n",
    "import ipywidgets as widgets\n",
    "from IPython.display import display, HTML\n",
    "import pandas as pd\n",
    "import statsmodels.api as sm\n",
    "from sklearn.preprocessing import StandardScaler\n",
    "import numpy as np\n",
    "\n",
    "print('Evaluate customer probability of loan default\\n\\n')\n",
    "mappings = {\n",
    "    'person_home_ownership': {'RENT': 0, 'OWN': 1, 'MORTGAGE': 2, 'OTHER': 3},\n",
    "    'loan_intent': {'DEBTCONSOLIDATION': 0, 'EDUCATION': 1, 'HOMEIMPROVEMENT': 2, 'MEDICAL': 3, 'PERSONAL': 4, 'VENTURE': 5},\n",
    "    'loan_grade': {'A': 0, 'B': 1, 'C': 2, 'D': 3, 'E': 4, 'F': 5, 'G': 6},\n",
    "    'loan_status' : {'Default': 0, 'NonDefault': 1},\n",
    "    'cb_person_default_on_file': {'N': 0, 'Y': 1},\n",
    "}\n",
    "columns = ['person_age', 'person_income', 'person_emp_length', 'loan_amnt', 'loan_int_rate', 'loan_percent_income', 'cb_person_cred_hist_length', 'person_home_ownership', 'loan_intent', 'loan_grade', 'cb_person_default_on_file']\n",
    "\n",
    "def standardize_data(df, columns_to_standardize):\n",
    "    scaler = StandardScaler()\n",
    "    df[columns_to_standardize] = scaler.fit_transform(df[columns_to_standardize])\n",
    "    return df\n",
    "\n",
    "display(HTML('''\n",
    "    <style>\n",
    "    .widget-label { min-width: 30ex !important; }\n",
    "    </style>\n",
    "'''))\n",
    "\n",
    "# Directory insisde models\n",
    "subdirs = os.listdir('models/')\n",
    "subdir_selector = widgets.Dropdown(\n",
    "    options = subdirs,\n",
    "    description='Select predictors:',\n",
    "    disabled = False,\n",
    ")\n",
    "display(subdir_selector)\n",
    "\n",
    "# Show a widget for each indip. variable\n",
    "input_widgets = {}\n",
    "for column in columns:\n",
    "    if column not in mappings:\n",
    "        input_widgets[column] = widgets.FloatText(\n",
    "            description=column,\n",
    "            disabled=False,\n",
    "        )\n",
    "    else:\n",
    "        input_widgets[column] = widgets.Dropdown(\n",
    "        options=mappings.get(column, {}).keys(),\n",
    "        description=column,\n",
    "        disabled=False,\n",
    "    )\n",
    "    display(input_widgets[column])\n",
    "\n",
    "print('\\n')\n",
    "# Button to get the prediction\n",
    "predict_button = widgets.Button(\n",
    "    description='Evaluate',\n",
    "    disabled=True,\n",
    "    button_style='',\n",
    "    tooltip='Click to evaluate',\n",
    "    icon='check',\n",
    ")\n",
    "display(predict_button)\n",
    "\n",
    "# Output space\n",
    "output = widgets.Output()\n",
    "display(output)\n",
    "\n",
    "def on_subdir_change(change):\n",
    "    with output:\n",
    "        predict_button.disabled = False\n",
    "        output.clear_output()\n",
    "        \n",
    "    selected_predictors = list(eval(change['new']))    \n",
    "    for column, widget in input_widgets.items():\n",
    "        widget.disabled = column not in selected_predictors    \n",
    "    \n",
    "    models_dir = os.path.join('models', subdir_selector.value)\n",
    "    model_files = os.listdir(models_dir)\n",
    "    model_selector.options = model_files\n",
    "\n",
    "# Register callback function\n",
    "subdir_selector.observe(on_subdir_change, names='value')\n",
    "\n",
    "# When click on predict\n",
    "def on_predict_click(b):\n",
    "    with output: \n",
    "        output.clear_output()\n",
    "        maps = {\n",
    "            'person_home_ownership': {'RENT': 0, 'OWN': 1, 'MORTGAGE': 2, 'OTHER': 3},\n",
    "            'loan_intent': {'DEBTCONSOLIDATION': 0, 'EDUCATION': 1, 'HOMEIMPROVEMENT': 2, 'MEDICAL': 3, 'PERSONAL': 4, 'VENTURE': 5},\n",
    "            'loan_grade': {'A': 0, 'B': 1, 'C': 2, 'D': 3, 'E': 4, 'F': 5, 'G': 6},\n",
    "            'loan_status' : {'Default': 0, 'NonDefault': 1},\n",
    "            'cb_person_default_on_file': {'N': 0, 'Y': 1},\n",
    "        }\n",
    "        \n",
    "        # read selected model\n",
    "        selected_predictors = list(eval(subdir_selector.value))\n",
    "        \n",
    "        # get user data\n",
    "        user_data = [maps[column][input_widgets[column].value] if column in maps else input_widgets[column].value for column in selected_predictors]        \n",
    "        df = pd.DataFrame(data=[user_data], columns=selected_predictors)\n",
    "\n",
    "        # predict for each model\n",
    "        predictions = []\n",
    "        for file in os.listdir(os.path.join('models', subdir_selector.value)):\n",
    "            if file != 'Logit.pkl':\n",
    "                model = pickle.load(open(os.path.join('models', subdir_selector.value, file), 'rb'))\n",
    "                prediction = model.predict_proba(df)[:, 1]\n",
    "                predictions.append(prediction[0])\n",
    "        \n",
    "        # calculate average\n",
    "        average_prediction = sum(predictions) / len(predictions)\n",
    "        if average_prediction > 0.5:\n",
    "            print(f\"\\nAverage Probability of loan default is {round(average_prediction * 100, 3)}% --> No Loan\")\n",
    "        else:\n",
    "            print(f\"\\nAverage Probability of loan default is {round(average_prediction * 100, 3)}% --> Yes Loan\")        \n",
    "\n",
    "predict_button.on_click(on_predict_click)"
   ]
  },
  {
   "cell_type": "code",
   "execution_count": null,
   "id": "a1a58be5-4e92-4256-95f9-8d2baab7914c",
   "metadata": {},
   "outputs": [],
   "source": []
  }
 ],
 "metadata": {
  "kernelspec": {
   "display_name": "Python 3 (ipykernel)",
   "language": "python",
   "name": "python3"
  },
  "language_info": {
   "codemirror_mode": {
    "name": "ipython",
    "version": 3
   },
   "file_extension": ".py",
   "mimetype": "text/x-python",
   "name": "python",
   "nbconvert_exporter": "python",
   "pygments_lexer": "ipython3",
   "version": "3.11.3"
  }
 },
 "nbformat": 4,
 "nbformat_minor": 5
}
